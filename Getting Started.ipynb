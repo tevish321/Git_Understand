{
 "cells": [
  {
   "cell_type": "markdown",
   "metadata": {},
   "source": [
    "##  Getting Started\n",
    "#### Numpy\n",
    " * pythonlikeyoumeanit website\n",
    " * <a href = \"https://numpy.org/doc/\" />Numpy docs\n",
    " \n",
    "#### Pandas\n",
    " * <a href = \"https://pandas.pydata.org/pandas-docs/stable/user_guide/10min.html\" />Pandas Resources\n",
    " * <a href = \"https://pandas.pydata.org/\" />Pandas docs\n",
    "\n",
    " \n",
    "#### Jupyter\n",
    " * Install the jupyter notebook\n",
    " * You can also install Anaconda which comes with an already preinstalled jupyter notebook\n",
    " * Alternatively you can also work with Google Colab and utilise the fast processing speeds and storage\n",
    " "
   ]
  },
  {
   "cell_type": "markdown",
   "metadata": {},
   "source": [
    "Out!\n",
    "shaloam"
   ]
  },
  {
   "cell_type": "code",
   "execution_count": null,
   "metadata": {},
   "outputs": [],
   "source": []
  }
 ],
 "metadata": {
  "kernelspec": {
   "display_name": "Python 3",
   "language": "python",
   "name": "python3"
  },
  "language_info": {
   "codemirror_mode": {
    "name": "ipython",
    "version": 3
   },
   "file_extension": ".py",
   "mimetype": "text/x-python",
   "name": "python",
   "nbconvert_exporter": "python",
   "pygments_lexer": "ipython3",
   "version": "3.8.3"
  }
 },
 "nbformat": 4,
 "nbformat_minor": 4
}
